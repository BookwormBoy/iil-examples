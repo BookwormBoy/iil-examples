{
 "cells": [
  {
   "cell_type": "code",
   "execution_count": null,
   "metadata": {},
   "outputs": [],
   "source": [
    "import os\n",
    "import pickle\n",
    "from collections import defaultdict\n",
    "from datetime import datetime\n",
    "\n",
    "import numpy as np\n",
    "import pandas as pd\n",
    "import matplotlib.pyplot as plt\n",
    "from tqdm import tqdm\n",
    "import mido\n",
    "from mido import MidiFile, MidiTrack, Message\n",
    "\n",
    "import notochord\n",
    "\n",
    "pd.set_option('display.float_format', '{:0.8f}'.format)"
   ]
  },
  {
   "cell_type": "markdown",
   "metadata": {},
   "source": [
    "# load data"
   ]
  },
  {
   "cell_type": "code",
   "execution_count": null,
   "metadata": {},
   "outputs": [],
   "source": [
    "data_dir = \"/path/to/mrp_data\""
   ]
  },
  {
   "cell_type": "code",
   "execution_count": null,
   "metadata": {},
   "outputs": [],
   "source": [
    "def ext_files_in_dir(directory, ext=\".txt\"):\n",
    "    files = os.listdir(directory)\n",
    "    files = [f for f in files if f.endswith(ext)]\n",
    "    return files\n",
    "\n",
    "def mrp_txt_to_df(file):\n",
    "    return pd.read_csv(file,\n",
    "        names=('time', 'osc', 'types', 'v0', 'v1', 'v2'), \n",
    "        converters={\n",
    "            'time':float, 'osc':str, 'types':str, \n",
    "            'v0':float, 'v1':float, 'v2':float},\n",
    "        sep='\\s+')\n",
    "\n",
    "def save_pkl(data, file):\n",
    "    with open(file, 'wb') as f:\n",
    "        pickle.dump(data, f)\n",
    "\n",
    "def load_pkl(file):\n",
    "    with open(file, 'rb') as f:\n",
    "        return pickle.load(f)"
   ]
  },
  {
   "cell_type": "code",
   "execution_count": null,
   "metadata": {},
   "outputs": [],
   "source": [
    "df = mrp_txt_to_df(data_dir+\"/data.log\")"
   ]
  },
  {
   "cell_type": "code",
   "execution_count": null,
   "metadata": {},
   "outputs": [],
   "source": [
    "osc_types = df.osc.value_counts().index\n",
    "df.osc.value_counts()"
   ]
  },
  {
   "cell_type": "markdown",
   "metadata": {},
   "source": [
    "# events over time by MIDI number"
   ]
  },
  {
   "cell_type": "code",
   "execution_count": null,
   "metadata": {},
   "outputs": [],
   "source": [
    "def scatter(osc,x,y,v0=None,v2=0,s=2,alpha=0.03, ax=plt, df=df, **kw):\n",
    "    cond = df.osc==osc\n",
    "    if v0 is not None:\n",
    "        cond &= (df.v0==v0)\n",
    "    df_ = df[cond]\n",
    "    ax.scatter(df_[x],df_[y] + df_.v2*v2, alpha=alpha, marker='.', s=s, ls='', **kw)"
   ]
  },
  {
   "cell_type": "code",
   "execution_count": null,
   "metadata": {},
   "outputs": [],
   "source": [
    "fig,ax = plt.subplots(figsize=(80,44))\n",
    "scatter('/mrp/midi','time','v1', v0=143, s=32, alpha=1, c='k', ax=ax) # note off\n",
    "scatter('/mrp/midi','time','v1', v0=159, s=32, alpha=1, ax=ax) # note on\n",
    "# scatter('/mrp/midi','time','v1', v0=176, s=512, alpha=1, c='y', ax=ax)\n",
    "scatter('/mrp/quality/intensity','time','v1', v2=0.5, alpha=0.05, ax=ax, c='r')\n",
    "scatter('/mrp/quality/pitch/vibrato','time','v1', v2=1, alpha=0.05, ax=ax, c='b')\n",
    "scatter('/mrp/quality/brightness','time','v1', v2=1/10, alpha=0.05, ax=ax, c='g')\n",
    "scatter('/mrp/quality/harmonic','time','v1', v2=1, alpha=0.05, ax=ax, c='m')\n",
    "# plt.savefig(data_dir+'/name.png')"
   ]
  },
  {
   "cell_type": "markdown",
   "metadata": {},
   "source": [
    "# extract notes into dictionary"
   ]
  },
  {
   "cell_type": "code",
   "execution_count": null,
   "metadata": {},
   "outputs": [],
   "source": [
    "# filter just note events\n",
    "notes_onoff = df[(df.osc=='/mrp/midi') & (df.v0<=159)]\n",
    "# initially store notes by MIDI pitch\n",
    "notes_by_pitch = {int(p):[] for p in notes_onoff.v1.unique()}\n",
    "# track held notes to validate matching noteon/noteoff\n",
    "note_is_on = {k:False for k in notes_by_pitch}"
   ]
  },
  {
   "cell_type": "code",
   "execution_count": null,
   "metadata": {},
   "outputs": [],
   "source": [
    "(df.time.diff().fillna(0) >= 0).all()"
   ]
  },
  {
   "cell_type": "code",
   "execution_count": null,
   "metadata": {},
   "outputs": [],
   "source": [
    "# for all rows in MRP recording\n",
    "for i,(idx,row) in enumerate(tqdm(df.iterrows())):\n",
    "    pitch = int(row.v1)\n",
    "    osc = row.osc.split('/')[-1] # short label for event type\n",
    "    t = row.time\n",
    "    if osc=='midi':\n",
    "        if row.v0==159: # noteOn\n",
    "            if note_is_on[pitch]:\n",
    "                tqdm.write(f'bad noteOn {pitch} at {t}')\n",
    "                continue\n",
    "            note_is_on[pitch] = True\n",
    "            # get the series of notes at this pitch\n",
    "            note_seq = notes_by_pitch[pitch]\n",
    "            # append a new note\n",
    "            note = defaultdict(list)\n",
    "            note_seq.append(note)\n",
    "            note['start_time'] = t\n",
    "        elif row.v0==143: # noteOff\n",
    "            if not note_is_on[pitch]:\n",
    "                tqdm.write(f'bad noteOff {pitch} at {t}')\n",
    "                continue\n",
    "            note_is_on[pitch] = False\n",
    "            # end the current note at this pitch\n",
    "            note = notes_by_pitch[pitch][-1]\n",
    "            # convert expression curves to pd.Series\n",
    "            for k in set(note) & {\n",
    "                'intensity', 'vibrato', 'brightness', 'harmonic'}:\n",
    "                # time is index\n",
    "                note[k] = pd.Series(*zip(*note[k]))\n",
    "            note['end_time'] = t\n",
    "        else:\n",
    "            # skip any non-note MIDI\n",
    "            tqdm.write(f'skip {row.osc} {row.v0}')\n",
    "    else: # OSC expression data\n",
    "        # accumulate into current note at this pitch\n",
    "        note = notes_by_pitch[pitch][-1]\n",
    "        # use times relative to note start\n",
    "        note[osc].append((row.v2, t - note['start_time']))\n",
    "\n",
    "# validate that all notes ended\n",
    "for k,v in note_is_on.items():\n",
    "    if v:\n",
    "        print(f'note {k} not closed')"
   ]
  },
  {
   "cell_type": "code",
   "execution_count": null,
   "metadata": {},
   "outputs": [],
   "source": [
    "durs = pd.Series([\n",
    "    note['end_time'] - note['start_time']\n",
    "    for p in notes_by_pitch\n",
    "    for note in notes_by_pitch[p]\n",
    "])\n",
    "durs.describe()"
   ]
  },
  {
   "cell_type": "code",
   "execution_count": null,
   "metadata": {},
   "outputs": [],
   "source": [
    "note_counts = {k:len(v) for k,v in notes_by_pitch.items()}\n",
    "len(note_counts), sum(note_counts.values())"
   ]
  },
  {
   "cell_type": "code",
   "execution_count": null,
   "metadata": {},
   "outputs": [],
   "source": [
    "def plot_all_curves(k, ylim=(-0.05,1.1), xlim=(1e-3,3e1), alpha=0.1):\n",
    "    fig, ax = plt.subplots(figsize=(24,16))\n",
    "    for p in notes_by_pitch:\n",
    "        for note in notes_by_pitch[p]:\n",
    "            curve = note[k]\n",
    "            if isinstance(curve, pd.Series):\n",
    "                curve.plot(logx=True, alpha=alpha, ax=ax, ylim=ylim, xlim=xlim)"
   ]
  },
  {
   "cell_type": "code",
   "execution_count": null,
   "metadata": {},
   "outputs": [],
   "source": [
    "plot_all_curves('intensity')"
   ]
  },
  {
   "cell_type": "code",
   "execution_count": null,
   "metadata": {},
   "outputs": [],
   "source": [
    "plot_all_curves('brightness', ylim=(0, 10))"
   ]
  },
  {
   "cell_type": "code",
   "execution_count": null,
   "metadata": {},
   "outputs": [],
   "source": [
    "plot_all_curves('vibrato', ylim=(-1.1, 1.1))"
   ]
  },
  {
   "cell_type": "code",
   "execution_count": null,
   "metadata": {},
   "outputs": [],
   "source": [
    "plot_all_curves('harmonic', ylim=(0, 2), alpha=0.5)"
   ]
  },
  {
   "cell_type": "code",
   "execution_count": null,
   "metadata": {},
   "outputs": [],
   "source": [
    "# convert to flat time-indexed notes dict\n",
    "all_times = []\n",
    "notes_by_time = {}\n",
    "short_notes = []\n",
    "for p in notes_by_pitch:\n",
    "    for note in notes_by_pitch[p]:\n",
    "        note['pitch'] = p\n",
    "        dur = note['end_time'] - note['start_time']\n",
    "        if dur < 5e-2:\n",
    "            # print(f'skipping {dur=}')\n",
    "            short_notes.append(note)\n",
    "            continue\n",
    "        notes_by_time[note['start_time']] = note\n",
    "        # prevent any exactly simultaneous events\n",
    "        shift = np.random.rand()*1e-5\n",
    "        note['start_time'] += shift\n",
    "        note['end_time'] += shift + np.random.rand()*1e-5\n",
    "        all_times.append(note['start_time'])\n",
    "        all_times.append(note['end_time'])\n",
    "len(all_times), len(set(all_times))"
   ]
  },
  {
   "cell_type": "code",
   "execution_count": null,
   "metadata": {},
   "outputs": [],
   "source": [
    "len(short_notes)\n",
    "# pd.Series([note['pitch'] for note in short_notes]).value_counts()"
   ]
  },
  {
   "cell_type": "code",
   "execution_count": null,
   "metadata": {},
   "outputs": [],
   "source": [
    "durs = pd.Series([\n",
    "    note['end_time'] - note['start_time']\n",
    "    for note in notes_by_time.values()\n",
    "])\n",
    "durs.describe()"
   ]
  },
  {
   "cell_type": "code",
   "execution_count": null,
   "metadata": {},
   "outputs": [],
   "source": [
    "durs[durs<0.1].plot(kind='hist', bins=100)"
   ]
  },
  {
   "cell_type": "markdown",
   "metadata": {},
   "source": [
    "# expression -> velocity\n"
   ]
  },
  {
   "cell_type": "code",
   "execution_count": null,
   "metadata": {},
   "outputs": [],
   "source": [
    "# compute velocity scores and attach to notes\n",
    "intens = []\n",
    "harm = []\n",
    "bright = []\n",
    "vib = []\n",
    "def reduce(s):\n",
    "    return s.mean() if isinstance(s, pd.Series) else 0\n",
    "for note in tqdm(notes_by_time.values()):\n",
    "    intens.append(reduce(note['intensity']))\n",
    "    harm.append(reduce(note['harmonic']))\n",
    "    bright.append(reduce(note['brightness']))\n",
    "    vib.append(reduce(note['vibrato']))\n",
    "\n",
    "score = np.array(intens) + np.array(harm) + np.abs(np.array(vib)) + np.array(bright)**0.5/8\n",
    "\n",
    "score_scale = score / max(score)\n",
    "score_rank = np.argsort(np.argsort(score)) / (len(score)-1)\n",
    "score_mix = ((score_scale + score_rank)/2)**0.5 * 126 + 1\n",
    "for note, score in zip(notes_by_time.values(), score_mix):\n",
    "    note['vel_score'] = score"
   ]
  },
  {
   "cell_type": "code",
   "execution_count": null,
   "metadata": {},
   "outputs": [],
   "source": [
    "save_pkl(notes_by_time, 'notes_by_time_gig.pkl')"
   ]
  },
  {
   "cell_type": "markdown",
   "metadata": {},
   "source": [
    "# resume from here if preprocessing has been done already"
   ]
  },
  {
   "cell_type": "code",
   "execution_count": null,
   "metadata": {},
   "outputs": [],
   "source": [
    "# notes_by_time = load_pkl('notes_by_time.pkl')\n",
    "notes_by_time = load_pkl('notes_by_time_gig.pkl')"
   ]
  },
  {
   "cell_type": "markdown",
   "metadata": {},
   "source": [
    "# Notochord"
   ]
  },
  {
   "cell_type": "code",
   "execution_count": null,
   "metadata": {},
   "outputs": [],
   "source": [
    "model = notochord.Notochord.from_checkpoint('notochord-latest.ckpt')\n",
    "model.reset()"
   ]
  },
  {
   "cell_type": "code",
   "execution_count": null,
   "metadata": {},
   "outputs": [],
   "source": [
    "# convert notes to notochord events\n",
    "# velocity 0 = noteoff,\n",
    "# noteon uses velocity score computed above\n",
    "events_by_time = {}\n",
    "for note in notes_by_time.values():\n",
    "    inst = 1\n",
    "    pitch = note['pitch']\n",
    "    if note['start_time'] in events_by_time: raise ValueError\n",
    "    if note['end_time'] in events_by_time: raise ValueError\n",
    "    events_by_time[note['start_time']] = {\n",
    "        'pitch':pitch,\n",
    "        'inst':inst,\n",
    "        'vel': max(1, note['vel_score'])\n",
    "    }\n",
    "    events_by_time[note['end_time']] = {\n",
    "        'pitch':pitch,\n",
    "        'inst':inst,\n",
    "        'vel': 0\n",
    "    }\n",
    "\n",
    "# compute delta time\n",
    "t = 0\n",
    "for k in sorted(events_by_time):\n",
    "    event = events_by_time[k]\n",
    "    event['time'] = k - t\n",
    "    t = k\n",
    "\n",
    "# get set of performed pitches\n",
    "all_pitch = set(note_counts.keys())"
   ]
  },
  {
   "cell_type": "code",
   "execution_count": null,
   "metadata": {},
   "outputs": [],
   "source": [
    "# validate no concurrent events\n",
    "assert len(events_by_time)==len(set(events_by_time))"
   ]
  },
  {
   "cell_type": "code",
   "execution_count": null,
   "metadata": {},
   "outputs": [],
   "source": [
    "# check balanced number of noteon/off events\n",
    "pd.Series([e['vel']>=0.5 for e in events_by_time.values()]).value_counts()"
   ]
  },
  {
   "cell_type": "code",
   "execution_count": null,
   "metadata": {},
   "outputs": [],
   "source": [
    "deltas = [e['time'] for e in events_by_time.values()]\n",
    "pd.Series(deltas).describe()"
   ]
  },
  {
   "cell_type": "markdown",
   "metadata": {},
   "source": [
    "### write MIDI"
   ]
  },
  {
   "cell_type": "code",
   "execution_count": null,
   "metadata": {},
   "outputs": [],
   "source": [
    "# function to dump notochord events to MIDI file\n",
    "def to_mid(events, file='output.mid', pc=None):\n",
    "    mid = MidiFile()\n",
    "    track = MidiTrack()\n",
    "    mid.tracks.append(track)\n",
    "    if pc is not None:\n",
    "        track.append(Message('program_change', program=pc))\n",
    "    ticks_per_second = mid.ticks_per_beat / (500000 / 1000000)\n",
    "    for k in tqdm(sorted(events)):\n",
    "        event = events[k]\n",
    "        delta_ticks = int(event['time'] * ticks_per_second)\n",
    "        if event['vel'] < 0.5: track.append(Message(\n",
    "                 'note_off', note=event['pitch'], velocity=100, time=delta_ticks))\n",
    "        else: track.append(Message(\n",
    "                 'note_on', note=event['pitch'], velocity=int(event['vel']+0.5), time=delta_ticks))\n",
    "    mid.save(file)\n",
    "    return mid"
   ]
  },
  {
   "cell_type": "code",
   "execution_count": null,
   "metadata": {},
   "outputs": [],
   "source": [
    "# # write data as a MIDI file for model training etc\n",
    "# data_mid = to_mid(events_by_time, 'training/data.mid', pc=0)\n",
    "data_mid = to_mid(events_by_time, 'test.mid', pc=None)"
   ]
  },
  {
   "cell_type": "markdown",
   "metadata": {},
   "source": [
    "## continuation"
   ]
  },
  {
   "cell_type": "code",
   "execution_count": null,
   "metadata": {},
   "outputs": [],
   "source": [
    "def noto_continue(\n",
    "        max_note_len = 10,\n",
    "        total_notes = 1000\n",
    "        ):\n",
    "    # feed the data as a prompt\n",
    "    model.reset()\n",
    "    for k in tqdm(sorted(events_by_time), desc='prompt'):\n",
    "        event = events_by_time[k]\n",
    "        model.feed(**event)\n",
    "\n",
    "    # free generation\n",
    "    gen_events = {}\n",
    "    t = 0\n",
    "    held_pitch_starts = {}\n",
    "    note_count = 0\n",
    "    ### heat safety ##TODO\n",
    "    last_stopped = {}\n",
    "    cumulative_on = {p:0 for p in all_pitch}\n",
    "    ###\n",
    "    for _ in tqdm(range(total_notes*2), desc='generation'):\n",
    "        held_pitch = set(held_pitch_starts)\n",
    "        hot_pitches = {p for p,l in cumulative_on.items() if l > 45}\n",
    "\n",
    "        on_map = {inst:all_pitch - held_pitch - hot_pitches}\n",
    "        # end all notes after \n",
    "        if note_count >= total_notes:\n",
    "            if not len(held_pitch):\n",
    "                break\n",
    "            on_map = {inst:set()}\n",
    "\n",
    "        long_note_ps = {\n",
    "            p for p,st in held_pitch_starts.items() \n",
    "            if (t - st > max_note_len) or p in hot_pitches}\n",
    "                    \n",
    "        if len(long_note_ps):\n",
    "            off_map = {inst:long_note_ps}\n",
    "        else:\n",
    "            off_map = {inst:held_pitch}\n",
    "\n",
    "        event = model.query_vipt(\n",
    "            note_on_map=on_map,\n",
    "            note_off_map=off_map,\n",
    "            # min_time=0.001,\n",
    "            max_time=16,\n",
    "            truncate_quantile_time=(0.25, 0.9),\n",
    "            steer_density=0.55,\n",
    "            )\n",
    "        model.feed(**event)\n",
    "        # print(event)\n",
    "        t = max(event['time'], 1e-5) + t\n",
    "        gen_events[t] = event\n",
    "        p = event['pitch']\n",
    "        if event['vel'] >= 0.5:\n",
    "            note_count += 1\n",
    "            held_pitch_starts[p] = t\n",
    "        else:\n",
    "            held_pitch_starts.pop(p)\n",
    "\n",
    "    return gen_events"
   ]
  },
  {
   "cell_type": "code",
   "execution_count": null,
   "metadata": {},
   "outputs": [],
   "source": [
    "# gen_events = noto_continue()\n",
    "# mid = to_mid(gen_events)\n",
    "# # duration in seconds and events\n",
    "# max(gen_events), len(gen_events)"
   ]
  },
  {
   "cell_type": "markdown",
   "metadata": {},
   "source": [
    "## variations"
   ]
  },
  {
   "cell_type": "code",
   "execution_count": null,
   "metadata": {},
   "outputs": [],
   "source": [
    "def noto_variation(\n",
    "        max_note_len = 7,\n",
    "        pitch_temp = 0.85,\n",
    "        truncate_quantile_time=(0.1,None),\n",
    "    ):\n",
    "    # feed the data as a prompt\n",
    "    model.reset()\n",
    "    for k in tqdm(sorted(events_by_time), desc='prompt'):\n",
    "        event = events_by_time[k]\n",
    "        model.feed(**event)\n",
    "\n",
    "    temp_kw = dict(\n",
    "        pitch_temp = pitch_temp,\n",
    "        truncate_quantile_time=truncate_quantile_time,\n",
    "    )\n",
    "    gen_events = {}\n",
    "    t = 0\n",
    "\n",
    "    held_pitch_starts = {}\n",
    "    ### heat safety\n",
    "    cumulative_on = {p:0 for p in all_pitch}\n",
    "    ###\n",
    "    for k in tqdm(sorted(events_by_time), desc='generation'):\n",
    "        # actual event\n",
    "        event = events_by_time[k]\n",
    "\n",
    "        hot_pitches = {p for p,l in cumulative_on.items() if l > 45}\n",
    "        held_pitch = set(held_pitch_starts)\n",
    "      \n",
    "        # get an event from notochord which roughly matches the performed event\n",
    "        if event['vel'] >= 0.5:\n",
    "            # noteon\n",
    "            valid_pitch = (\n",
    "                (set(range(event['pitch']-12, event['pitch']+13)) & all_pitch)\n",
    "                # (all_pitch - {event['pitch']}) # inverse pitch\n",
    "                # ({event['pitch']-17, event['pitch']-12, event['pitch']-7, event['pitch']-5, event['pitch'], event['pitch']+5, event['pitch']+5, event['pitch']+12, event['pitch']+17} & all_pitch)\n",
    "                - held_pitch\n",
    "                - hot_pitches\n",
    "                )\n",
    "            if not len(valid_pitch):\n",
    "                # escape hatch if all pitches are excluded above\n",
    "                valid_pitch = all_pitch - held_pitch - hot_pitches\n",
    "            if not len(valid_pitch):\n",
    "                raise ValueError(f\"\"\"\n",
    "                    can't start any more notes: \n",
    "                    {held_pitch=} \n",
    "                    {hot_pitches=} \n",
    "                    {all_pitch=}\"\"\")\n",
    "    \n",
    "            # handle case where there is exactly one possible pitch:\n",
    "            if len(valid_pitch)==1:\n",
    "                kw = dict(next_pitch=next(iter(valid_pitch)))\n",
    "            else:\n",
    "                kw = dict(include_pitch=valid_pitch)\n",
    "\n",
    "            # reduce long gaps:\n",
    "            gap = min(event['time'], 2)\n",
    "\n",
    "            event = model.query_feed(\n",
    "                next_inst=inst,\n",
    "                min_time=gap/2,\n",
    "                max_time=gap*1.5,\n",
    "                min_vel=max(1, event['vel']-16),\n",
    "                max_vel=min(127, event['vel']+16),\n",
    "                **kw,\n",
    "                **temp_kw\n",
    "            )\n",
    "        else:\n",
    "            # noteoff\n",
    "            long_note_ps = {\n",
    "                p for p,st in held_pitch_starts.items() \n",
    "                if (t - st > max_note_len) or p in hot_pitches}\n",
    "\n",
    "            if len(long_note_ps):\n",
    "                valid_pitch = long_note_ps\n",
    "            else:\n",
    "                valid_pitch = held_pitch\n",
    "            if len(valid_pitch)==1:\n",
    "                kw = dict(next_pitch=next(iter(valid_pitch)))\n",
    "            else:\n",
    "                kw = dict(include_pitch=valid_pitch)\n",
    "\n",
    "            event = model.query_feed(\n",
    "                next_inst=inst,\n",
    "                next_vel=0,\n",
    "                min_time=event['time']/2,\n",
    "                max_time=event['time']*1.5,\n",
    "                **kw,\n",
    "                **temp_kw\n",
    "            )\n",
    "\n",
    "        t = max(event['time'], 1e-5) + t\n",
    "        gen_events[t] = event\n",
    "        p = event['pitch']\n",
    "        # update heat \n",
    "        for p in cumulative_on:\n",
    "            if p in held_pitch_starts:\n",
    "                cumulative_on[p] = cumulative_on[p] + event['time']\n",
    "            else:\n",
    "                cumulative_on[p] = max(0, cumulative_on[p] - event['time'])\n",
    "        # update held notes\n",
    "        if event['vel'] >= 0.5:\n",
    "            held_pitch_starts[p] = t\n",
    "        else:\n",
    "            held_pitch_starts.pop(p)\n",
    "\n",
    "    return gen_events"
   ]
  },
  {
   "cell_type": "code",
   "execution_count": null,
   "metadata": {},
   "outputs": [],
   "source": [
    "gen_events = noto_variation()\n",
    "mid = to_mid(gen_events)\n",
    "# duration in seconds and events\n",
    "max(gen_events), len(gen_events)"
   ]
  },
  {
   "cell_type": "markdown",
   "metadata": {},
   "source": [
    "## events -> notes w durations"
   ]
  },
  {
   "cell_type": "code",
   "execution_count": null,
   "metadata": {},
   "outputs": [],
   "source": [
    "# add absolute time and duration to each noteon, and put in gen_notes\n",
    "held_notes = {}\n",
    "gen_notes = {}\n",
    "for t,event in gen_events.items():\n",
    "    p = event['pitch']\n",
    "    if event['vel'] >= 0.5:\n",
    "        event['abstime'] = t\n",
    "        gen_notes[t] = held_notes[p] = event\n",
    "    else:\n",
    "        note = held_notes.pop(p)\n",
    "        note['duration'] = t - note['abstime']\n"
   ]
  },
  {
   "cell_type": "markdown",
   "metadata": {},
   "source": [
    "## notes back to curves"
   ]
  },
  {
   "cell_type": "code",
   "execution_count": null,
   "metadata": {},
   "outputs": [],
   "source": [
    "# resample an expression curve to desired length, \n",
    "# leaving the attack alone but stretching the rest\n",
    "def resamp_hybrid(s, target_len, attack=0.2, expression_sr=100):\n",
    "    if not isinstance(s, pd.Series):\n",
    "        return s\n",
    "    try:\n",
    "        stretch = target_len / max(s.index)\n",
    "    except:\n",
    "        stretch = 1\n",
    "    new_t = np.linspace(3e-3, target_len-3e-3, int(target_len*expression_sr))\n",
    "    mod_t = pd.Index([\n",
    "        *s.index[s.index < attack], \n",
    "        *((s.index[s.index >= attack]-attack)*stretch + attack)\n",
    "        ])\n",
    "    return pd.Series(np.interp(new_t, mod_t, s), index=new_t)"
   ]
  },
  {
   "cell_type": "code",
   "execution_count": null,
   "metadata": {},
   "outputs": [],
   "source": [
    "data_notes = list(notes_by_time.values())\n",
    "vel_scores = np.array([\n",
    "    data_note['vel_score']\n",
    "    for data_note in data_notes])"
   ]
  },
  {
   "cell_type": "code",
   "execution_count": null,
   "metadata": {},
   "outputs": [],
   "source": [
    "df_out = []\n",
    "\n",
    "def get_curve_df(curve, osc, t):\n",
    "    df_ = pd.DataFrame(columns=df.columns)\n",
    "    df_['time'] = intens.index + t\n",
    "    df_['osc'] = osc\n",
    "    df_['types'] = 'iif'\n",
    "    df_['v0'] = 15\n",
    "    df_['v1'] = note['pitch']\n",
    "    df_['v2'] = curve.values\n",
    "    return df_\n",
    "\n",
    "for t,note in tqdm(gen_notes.items()):\n",
    "    v = note['vel']\n",
    "    dist = np.abs(v-vel_scores)\n",
    "    idx = np.argmin(dist)\n",
    "    data_note = data_notes[idx]\n",
    "\n",
    "    intens = resamp_hybrid(data_note['intensity'], note['duration'])\n",
    "    if isinstance(intens, pd.Series):\n",
    "        df_out.append(get_curve_df(intens, '/mrp/quality/intensity', t))\n",
    "\n",
    "    bright = resamp_hybrid(data_note['brightness'], note['duration'])\n",
    "    if isinstance(bright, pd.Series):\n",
    "        df_out.append(get_curve_df(bright, '/mrp/quality/brightness', t))\n",
    "\n",
    "    vib = resamp_hybrid(data_note['vibrato'], note['duration'])\n",
    "    if isinstance(vib, pd.Series):\n",
    "        df_out.append(get_curve_df(vib, '/mrp/quality/pitch/vibrato', t))\n",
    "\n",
    "    harm = resamp_hybrid(data_note['harmonic'], note['duration'])\n",
    "    if isinstance(harm, pd.Series):\n",
    "        df_out.append(get_curve_df(harm, '/mrp/quality/harmonic', t))\n",
    "\n",
    "df_out = pd.concat(df_out)\n",
    "df_out"
   ]
  },
  {
   "cell_type": "markdown",
   "metadata": {},
   "source": [
    "## events to df"
   ]
  },
  {
   "cell_type": "code",
   "execution_count": null,
   "metadata": {},
   "outputs": [],
   "source": [
    "# convert notochord events to MIDI datadrame\n",
    "def gen_events_to_df(gen_events, columns):\n",
    "    note_on = lambda t, p, i: pd.Series([t, '/mrp/midi', 'iii', 159, p, 127], index=i)\n",
    "    note_off = lambda t, p, i: pd.Series([t, '/mrp/midi', 'iii', 143, p, 0], index=i)\n",
    "    rows = []\n",
    "    for t, event in tqdm(gen_events.items(), total=len(gen_events)):\n",
    "        if event['vel'] > 0.5:\n",
    "            rows.append(note_on(t, event['pitch'], columns))\n",
    "        else:\n",
    "            rows.append(note_off(t, event['pitch'], columns))\n",
    "    return pd.DataFrame(rows, columns=columns)\n",
    "\n",
    "gen_df = gen_events_to_df(gen_events, df.columns)\n",
    "gen_df"
   ]
  },
  {
   "cell_type": "code",
   "execution_count": null,
   "metadata": {},
   "outputs": [],
   "source": [
    "gen_df.v2 = gen_df.v2.astype(str)"
   ]
  },
  {
   "cell_type": "code",
   "execution_count": null,
   "metadata": {},
   "outputs": [],
   "source": [
    "all_df = pd.concat((df_out, gen_df))\n",
    "all_df = all_df.sort_values('time')\n",
    "all_df"
   ]
  },
  {
   "cell_type": "code",
   "execution_count": null,
   "metadata": {},
   "outputs": [],
   "source": [
    "# dataframe to MRP log file\n",
    "def df_to_mrp(df: pd.DataFrame, file=None):\n",
    "    if file is None: file = f'mrp_{datetime.now().strftime(\"%Y_%m_%d-%H%M%S\")}.log'\n",
    "    row_to_str = lambda row: ' '.join(row.astype(str))\n",
    "    rows = []\n",
    "    df.time = np.round(df.time, 5)\n",
    "    df.v2 = np.round(df.v2, 6)\n",
    "    with open(file, 'w') as f:\n",
    "        for i, row in df.iterrows():\n",
    "            row_str = row_to_str(row)\n",
    "            f.write(row_str + '\\n')\n",
    "            rows.append(row_str)\n",
    "    return rows"
   ]
  },
  {
   "cell_type": "code",
   "execution_count": null,
   "metadata": {},
   "outputs": [],
   "source": [
    "rows = df_to_mrp(all_df)"
   ]
  },
  {
   "cell_type": "code",
   "execution_count": null,
   "metadata": {},
   "outputs": [],
   "source": [
    "rows[0], rows[-1]"
   ]
  }
 ],
 "metadata": {
  "kernelspec": {
   "display_name": "test-local",
   "language": "python",
   "name": "python3"
  },
  "language_info": {
   "codemirror_mode": {
    "name": "ipython",
    "version": 3
   },
   "file_extension": ".py",
   "mimetype": "text/x-python",
   "name": "python",
   "nbconvert_exporter": "python",
   "pygments_lexer": "ipython3",
   "version": "3.10.13"
  }
 },
 "nbformat": 4,
 "nbformat_minor": 2
}
